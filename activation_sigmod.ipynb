{
 "cells": [
  {
   "cell_type": "markdown",
   "metadata": {},
   "source": [
    "#### Sigmoid function is:\n",
    "$$f(x) = {1 \\over {1 + e^{-x}}}$$\n",
    "\n",
    "#### Deravative of sigmoid function is:\n",
    "$$f'(x) = {f(x)(1 - f(x))}$$"
   ]
  },
  {
   "cell_type": "code",
   "execution_count": 4,
   "metadata": {},
   "outputs": [],
   "source": [
    "#import libs\n",
    "import matplotlib.pyplot as plt\n",
    "import numpy as np\n",
    "import math"
   ]
  },
  {
   "cell_type": "code",
   "execution_count": 5,
   "metadata": {},
   "outputs": [
    {
     "name": "stdout",
     "output_type": "stream",
     "text": [
      "0.5\n"
     ]
    }
   ],
   "source": [
    "#try to implement sigmoid function\n",
    "\n",
    "def sigmod(x):\n",
    "    a = math.exp(-x) #e^-x\n",
    "    result = 1/(1+a)     \n",
    "    return result\n",
    "\n",
    "#run to test\n",
    "a = sigmod(0)\n",
    "print(a)"
   ]
  },
  {
   "cell_type": "code",
   "execution_count": 6,
   "metadata": {},
   "outputs": [
    {
     "name": "stdout",
     "output_type": "stream",
     "text": [
      "0.25\n"
     ]
    }
   ],
   "source": [
    "#try to implement the derivative\n",
    "\n",
    "def sigmod_derivative(x):\n",
    "    f_x = sigmod(x) #is f(x) in above fomular\n",
    "    result = f_x*(1-f_x)\n",
    "    return result\n",
    "\n",
    "#run to test\n",
    "a = sigmod_derivative(0)\n",
    "print(a)"
   ]
  },
  {
   "cell_type": "code",
   "execution_count": 14,
   "metadata": {},
   "outputs": [
    {
     "name": "stdout",
     "output_type": "stream",
     "text": [
      "X \t f(x) \t f'(x)\n",
      "----------------------\n",
      "-4.00 \t 0.02 \t 0.02\n",
      "-3.90 \t 0.02 \t 0.02\n",
      "-3.80 \t 0.02 \t 0.02\n",
      "-3.70 \t 0.02 \t 0.02\n",
      "-3.60 \t 0.03 \t 0.03\n",
      "-3.50 \t 0.03 \t 0.03\n",
      "-3.40 \t 0.03 \t 0.03\n",
      "-3.30 \t 0.04 \t 0.03\n",
      "-3.20 \t 0.04 \t 0.04\n",
      "-3.10 \t 0.04 \t 0.04\n",
      "-3.00 \t 0.05 \t 0.05\n",
      "-2.90 \t 0.05 \t 0.05\n",
      "-2.80 \t 0.06 \t 0.05\n",
      "-2.70 \t 0.06 \t 0.06\n",
      "-2.60 \t 0.07 \t 0.06\n",
      "-2.50 \t 0.08 \t 0.07\n",
      "-2.40 \t 0.08 \t 0.08\n",
      "-2.30 \t 0.09 \t 0.08\n",
      "-2.20 \t 0.10 \t 0.09\n",
      "-2.10 \t 0.11 \t 0.10\n",
      "-2.00 \t 0.12 \t 0.10\n",
      "-1.90 \t 0.13 \t 0.11\n",
      "-1.80 \t 0.14 \t 0.12\n",
      "-1.70 \t 0.15 \t 0.13\n",
      "-1.60 \t 0.17 \t 0.14\n",
      "-1.50 \t 0.18 \t 0.15\n",
      "-1.40 \t 0.20 \t 0.16\n",
      "-1.30 \t 0.21 \t 0.17\n",
      "-1.20 \t 0.23 \t 0.18\n",
      "-1.10 \t 0.25 \t 0.19\n",
      "-1.00 \t 0.27 \t 0.20\n",
      "-0.90 \t 0.29 \t 0.21\n",
      "-0.80 \t 0.31 \t 0.21\n",
      "-0.70 \t 0.33 \t 0.22\n",
      "-0.60 \t 0.35 \t 0.23\n",
      "-0.50 \t 0.38 \t 0.24\n",
      "-0.40 \t 0.40 \t 0.24\n",
      "-0.30 \t 0.43 \t 0.24\n",
      "-0.20 \t 0.45 \t 0.25\n",
      "-0.10 \t 0.48 \t 0.25\n",
      "0.00 \t 0.50 \t 0.25\n",
      "0.10 \t 0.52 \t 0.25\n",
      "0.20 \t 0.55 \t 0.25\n",
      "0.30 \t 0.57 \t 0.24\n",
      "0.40 \t 0.60 \t 0.24\n",
      "0.50 \t 0.62 \t 0.24\n",
      "0.60 \t 0.65 \t 0.23\n",
      "0.70 \t 0.67 \t 0.22\n",
      "0.80 \t 0.69 \t 0.21\n",
      "0.90 \t 0.71 \t 0.21\n",
      "1.00 \t 0.73 \t 0.20\n",
      "1.10 \t 0.75 \t 0.19\n",
      "1.20 \t 0.77 \t 0.18\n",
      "1.30 \t 0.79 \t 0.17\n",
      "1.40 \t 0.80 \t 0.16\n",
      "1.50 \t 0.82 \t 0.15\n",
      "1.60 \t 0.83 \t 0.14\n",
      "1.70 \t 0.85 \t 0.13\n",
      "1.80 \t 0.86 \t 0.12\n",
      "1.90 \t 0.87 \t 0.11\n",
      "2.00 \t 0.88 \t 0.10\n",
      "2.10 \t 0.89 \t 0.10\n",
      "2.20 \t 0.90 \t 0.09\n",
      "2.30 \t 0.91 \t 0.08\n",
      "2.40 \t 0.92 \t 0.08\n",
      "2.50 \t 0.92 \t 0.07\n",
      "2.60 \t 0.93 \t 0.06\n",
      "2.70 \t 0.94 \t 0.06\n",
      "2.80 \t 0.94 \t 0.05\n",
      "2.90 \t 0.95 \t 0.05\n",
      "3.00 \t 0.95 \t 0.05\n",
      "3.10 \t 0.96 \t 0.04\n",
      "3.20 \t 0.96 \t 0.04\n",
      "3.30 \t 0.96 \t 0.03\n",
      "3.40 \t 0.97 \t 0.03\n",
      "3.50 \t 0.97 \t 0.03\n",
      "3.60 \t 0.97 \t 0.03\n",
      "3.70 \t 0.98 \t 0.02\n",
      "3.80 \t 0.98 \t 0.02\n",
      "3.90 \t 0.98 \t 0.02\n",
      "4.00 \t 0.98 \t 0.02\n",
      "----------------------\n"
     ]
    }
   ],
   "source": [
    "#using matplotlib to draw sigmoid and its derivative \n",
    "\n",
    "X = np.arange(-4., 4.1, 0.1) #create an array which contains numbers from -4 to 4 with step is 0.5\n",
    "Y = []\n",
    "Y_derivative = []\n",
    "\n",
    "#loop all element in X to calcualte sigmoid value and sigmod_derivative value\n",
    "print(\"X \\t f(x) \\t f'(x)\")\n",
    "print('----------------------')\n",
    "for x in X:\n",
    "    y = sigmod(x)\n",
    "    Y.append(y)\n",
    "    \n",
    "    y_derivative = sigmod_derivative(x)\n",
    "    Y_derivative.append(y_derivative)\n",
    "    \n",
    "    #try to print\n",
    "    print('%.2f \\t %.2f \\t %.2f' %(x, y, y_derivative))\n",
    "    \n",
    "print('----------------------')"
   ]
  },
  {
   "cell_type": "code",
   "execution_count": 15,
   "metadata": {},
   "outputs": [
    {
     "data": {
      "image/png": "[encoded data removed]",
      "text/plain": [
       "<Figure size 432x288 with 1 Axes>"
      ]
     },
     "metadata": {
      "needs_background": "light"
     },
     "output_type": "display_data"
    }
   ],
   "source": [
    "#draw all of them to chart\n",
    "fig, ax = plt.subplots()\n",
    "\n",
    "ax.plot(X, Y, label='sigmoid')\n",
    "ax.plot(X, Y_derivative, label='derivative sigmoid')\n",
    "ax.legend(loc='upper left')\n",
    "\n",
    "ax.spines['left'].set_position('center')\n",
    "ax.spines['bottom'].set_position('center')\n",
    "ax.spines['top'].set_color('none')\n",
    "ax.spines['right'].set_color('none')\n",
    "\n",
    "ax.xaxis.set_ticks_position('bottom')\n",
    "ax.yaxis.set_ticks_position('left')\n",
    "\n",
    "plt.show()"
   ]
  },
  {
   "cell_type": "code",
   "execution_count": null,
   "metadata": {},
   "outputs": [],
   "source": []
  }
 ],
 "metadata": {
  "kernelspec": {
   "display_name": "Python 3",
   "language": "python",
   "name": "python3"
  },
  "language_info": {
   "codemirror_mode": {
    "name": "ipython",
    "version": 3
   },
   "file_extension": ".py",
   "mimetype": "text/x-python",
   "name": "python",
   "nbconvert_exporter": "python",
   "pygments_lexer": "ipython3",
   "version": "3.6.7"
  }
 },
 "nbformat": 4,
 "nbformat_minor": 2
}
