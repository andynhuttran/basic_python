{
 "cells": [
  {
   "cell_type": "code",
   "execution_count": 87,
   "metadata": {},
   "outputs": [],
   "source": [
    "#import libs\n",
    "import matplotlib.pyplot as plt\n",
    "import numpy as np\n",
    "import math"
   ]
  },
  {
   "cell_type": "markdown",
   "metadata": {},
   "source": [
    "#### Sigmoid function is:\n",
    "\n",
    "$$f(x) = {1 \\over {1 + e^{-x}}}$$"
   ]
  },
  {
   "cell_type": "code",
   "execution_count": 88,
   "metadata": {},
   "outputs": [
    {
     "name": "stdout",
     "output_type": "stream",
     "text": [
      "0.5\n"
     ]
    }
   ],
   "source": [
    "#try to implement sigmoid function\n",
    "\n",
    "def sigmod(x):\n",
    "    a = math.exp(-x) #e^-x\n",
    "    result = 1/(1+a)     \n",
    "    return result\n",
    "\n",
    "#run to test\n",
    "a = sigmod(0)\n",
    "print(a)"
   ]
  },
  {
   "cell_type": "markdown",
   "metadata": {},
   "source": [
    "#### Deravative of sigmoid function is:\n",
    "\n",
    "$$f'(x) = {f(x)(1 - f(x))}$$\n",
    "\n",
    "#### with\n",
    "$$f(x) = {1 \\over {1 + e^{-x}}}$$"
   ]
  },
  {
   "cell_type": "code",
   "execution_count": 89,
   "metadata": {},
   "outputs": [
    {
     "name": "stdout",
     "output_type": "stream",
     "text": [
      "0.25\n"
     ]
    }
   ],
   "source": [
    "#try to implement the derivative\n",
    "\n",
    "def sigmod_derivative(x):\n",
    "    f_x = sigmod(x) #is f(x) in above fomular\n",
    "    result = f_x*(1-f_x)\n",
    "    return result\n",
    "\n",
    "#run to test\n",
    "a = sigmod_derivative(0)\n",
    "print(a)"
   ]
  },
  {
   "cell_type": "code",
   "execution_count": 90,
   "metadata": {},
   "outputs": [
    {
     "name": "stdout",
     "output_type": "stream",
     "text": [
      "X \t f(x) \t f'(x)\n",
      "----------------------\n",
      "-4.00 \t 0.02 \t 0.02\n",
      "-3.50 \t 0.03 \t 0.03\n",
      "-3.00 \t 0.05 \t 0.05\n",
      "-2.50 \t 0.08 \t 0.07\n",
      "-2.00 \t 0.12 \t 0.10\n",
      "-1.50 \t 0.18 \t 0.15\n",
      "-1.00 \t 0.27 \t 0.20\n",
      "-0.50 \t 0.38 \t 0.24\n",
      "0.00 \t 0.50 \t 0.25\n",
      "0.50 \t 0.62 \t 0.24\n",
      "1.00 \t 0.73 \t 0.20\n",
      "1.50 \t 0.82 \t 0.15\n",
      "2.00 \t 0.88 \t 0.10\n",
      "2.50 \t 0.92 \t 0.07\n",
      "3.00 \t 0.95 \t 0.05\n",
      "3.50 \t 0.97 \t 0.03\n",
      "----------------------\n"
     ]
    }
   ],
   "source": [
    "#using matplotlib to draw sigmoid and its derivative \n",
    "\n",
    "X = np.arange(-4, 4, 0.5) #create an array which contains numbers from -4 to 4 with step is 0.5\n",
    "Y = []\n",
    "Y_derivative = []\n",
    "\n",
    "#loop all element in X to calcualte sigmoid value and sigmod_derivative value\n",
    "print(\"X \\t f(x) \\t f'(x)\")\n",
    "print('----------------------')\n",
    "for x in X:\n",
    "    y = sigmod(x)\n",
    "    Y.append(y)\n",
    "    \n",
    "    y_derivative = sigmod_derivative(x)\n",
    "    Y_derivative.append(y_derivative)\n",
    "    \n",
    "    #try to print\n",
    "    print('%.2f \\t %.2f \\t %.2f' %(x, y, y_derivative))\n",
    "    \n",
    "print('----------------------')"
   ]
  },
  {
   "cell_type": "code",
   "execution_count": 91,
   "metadata": {},
   "outputs": [
    {
     "data": {
      "image/png": "[encoded data removed]",
      "text/plain": [
       "<Figure size 432x288 with 1 Axes>"
      ]
     },
     "metadata": {
      "needs_background": "light"
     },
     "output_type": "display_data"
    }
   ],
   "source": [
    "#draw all of them to chart\n",
    "fig = plt.figure()\n",
    "ax = fig.add_subplot(111)\n",
    "\n",
    "ax.plot(X, Y, label='sigmoid')\n",
    "ax.plot(X, Y_derivative, label='derivative sigmoid')\n",
    "ax.legend(loc='upper left')\n",
    "\n",
    "ax.spines['left'].set_position('center')\n",
    "ax.spines['right'].set_color('none')\n",
    "#ax.spines['bottom'].set_position('bottom')\n",
    "ax.spines['top'].set_color('none')\n",
    "ax.spines['left'].set_smart_bounds(True)\n",
    "ax.spines['bottom'].set_smart_bounds(True)\n",
    "ax.xaxis.set_ticks_position('bottom')\n",
    "ax.yaxis.set_ticks_position('left')"
   ]
  },
  {
   "cell_type": "code",
   "execution_count": null,
   "metadata": {},
   "outputs": [],
   "source": []
  }
 ],
 "metadata": {
  "kernelspec": {
   "display_name": "Python 3",
   "language": "python",
   "name": "python3"
  },
  "language_info": {
   "codemirror_mode": {
    "name": "ipython",
    "version": 3
   },
   "file_extension": ".py",
   "mimetype": "text/x-python",
   "name": "python",
   "nbconvert_exporter": "python",
   "pygments_lexer": "ipython3",
   "version": "3.6.7"
  }
 },
 "nbformat": 4,
 "nbformat_minor": 2
}
