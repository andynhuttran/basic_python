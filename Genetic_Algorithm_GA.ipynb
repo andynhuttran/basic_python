{
 "cells": [
  {
   "cell_type": "code",
   "execution_count": 36,
   "metadata": {},
   "outputs": [],
   "source": [
    "import random\n",
    "import numpy as np"
   ]
  },
  {
   "cell_type": "code",
   "execution_count": 45,
   "metadata": {},
   "outputs": [],
   "source": [
    "def generate_data(n):\n",
    "    return [random.randint(0, 1) for _ in range(n)]\n",
    "\n",
    "def generate_datas(n, m):\n",
    "    return [generate_data(n) for _ in range(m)]"
   ]
  },
  {
   "cell_type": "code",
   "execution_count": 48,
   "metadata": {},
   "outputs": [],
   "source": [
    "def cal_fitness(data):\n",
    "    return sum(data)\n",
    "        \n",
    "\n",
    "def generate_random_couple_number(a, b, m):\n",
    "    return [(random.randint(a, b), random.randint(a, b)) for _ in range(m)]\n",
    "\n",
    "def pick_item(items, pair_of_number):\n",
    "    result = []\n",
    "    for (i, j) in pair_of_number:\n",
    "        if (i > j):\n",
    "            result.append(items[i])\n",
    "        else:\n",
    "            result.append(items[j])\n",
    "            \n",
    "    return result\n",
    "\n",
    "def scrossover(item1, item2, rate = 0.9):\n",
    "    for i in range(3):\n",
    "        if (random.random() < rate):\n",
    "            item1[i], item2[i] = item2[i], item1[i]"
   ]
  },
  {
   "cell_type": "code",
   "execution_count": 58,
   "metadata": {},
   "outputs": [
    {
     "name": "stdout",
     "output_type": "stream",
     "text": [
      "--------Initial Items---------\n",
      "[0, 0, 0, 0, 0, 0]\n",
      "[0, 0, 0, 0, 1, 0]\n",
      "[1, 0, 0, 1, 0, 1]\n",
      "[1, 0, 1, 1, 0, 0]\n",
      "[0, 1, 0, 0, 1, 1]\n",
      "[0, 0, 0, 1, 1, 1]\n",
      "[1, 1, 0, 1, 0, 0]\n",
      "[1, 1, 1, 0, 1, 0]\n",
      "[1, 1, 1, 0, 1, 0]\n",
      "[0, 1, 1, 1, 1, 1]\n",
      "--------Pair of numbers---------\n",
      "[(8, 3), (4, 8), (6, 1), (7, 1), (0, 4), (7, 2), (1, 0), (8, 3), (4, 8), (4, 6)]\n",
      "--------Select item base on Pair of numbers---------\n",
      "[1, 1, 1, 0, 1, 0]\n",
      "[1, 1, 1, 0, 1, 0]\n",
      "[1, 1, 0, 1, 0, 0]\n",
      "[1, 1, 1, 0, 1, 0]\n",
      "[0, 1, 0, 0, 1, 1]\n",
      "[1, 1, 1, 0, 1, 0]\n",
      "[0, 0, 0, 0, 1, 0]\n",
      "[1, 1, 1, 0, 1, 0]\n",
      "[1, 1, 1, 0, 1, 0]\n",
      "[1, 1, 0, 1, 0, 0]\n",
      "-----------------\n",
      "[1, 0, 0]\n",
      "[0, 1, 1]\n"
     ]
    }
   ],
   "source": [
    "n = 6\n",
    "m  = 10\n",
    "items = generate_datas(n,m)\n",
    "items = sorted(items, key=cal_fitness)\n",
    "print('--------Initial Items---------') \n",
    "for item in items:\n",
    "    print(item)\n",
    "\n",
    "print('--------Pair of numbers---------') \n",
    "pair_of_number = generate_random_couple_number(0, m-1, m)\n",
    "print(pair_of_number)\n",
    "\n",
    "print('--------Select item base on Pair of numbers---------') \n",
    "good_items = pick_item(items, pair_of_number)\n",
    "for item in good_items:\n",
    "    print(item)\n",
    "\n",
    "print('-----------------') \n",
    "a = [0, 1, 1]\n",
    "b = [1, 0, 0]\n",
    "scrossover(a, b, 0.9)\n",
    "print(a)\n",
    "print(b)"
   ]
  },
  {
   "cell_type": "code",
   "execution_count": null,
   "metadata": {},
   "outputs": [],
   "source": []
  },
  {
   "cell_type": "code",
   "execution_count": null,
   "metadata": {},
   "outputs": [],
   "source": []
  },
  {
   "cell_type": "code",
   "execution_count": null,
   "metadata": {},
   "outputs": [],
   "source": []
  }
 ],
 "metadata": {
  "kernelspec": {
   "display_name": "Python 3",
   "language": "python",
   "name": "python3"
  },
  "language_info": {
   "codemirror_mode": {
    "name": "ipython",
    "version": 3
   },
   "file_extension": ".py",
   "mimetype": "text/x-python",
   "name": "python",
   "nbconvert_exporter": "python",
   "pygments_lexer": "ipython3",
   "version": "3.6.8"
  }
 },
 "nbformat": 4,
 "nbformat_minor": 2
}
