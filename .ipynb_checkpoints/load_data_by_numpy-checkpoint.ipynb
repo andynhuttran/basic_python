{
 "cells": [
  {
   "cell_type": "code",
   "execution_count": 1,
   "metadata": {},
   "outputs": [],
   "source": [
    "import numpy as np"
   ]
  },
  {
   "cell_type": "code",
   "execution_count": 2,
   "metadata": {},
   "outputs": [
    {
     "name": "stdout",
     "output_type": "stream",
     "text": [
      "(333, 14)\n",
      "(333, 13)\n",
      "(333,)\n"
     ]
    }
   ],
   "source": [
    "#load all columns to data\n",
    "data = np.genfromtxt('Boston.csv', dtype='float', delimiter=',', skip_header=1)\n",
    "\n",
    "print(data.shape)\n",
    "\n",
    "#use columns which expect the last column as feature X\n",
    "X = data[:, :-1]\n",
    "y = data[:, -1] #use last column as label, price of house\n",
    "\n",
    "print(X.shape)\n",
    "print(y.shape)\n"
   ]
  },
  {
   "cell_type": "code",
   "execution_count": 3,
   "metadata": {},
   "outputs": [
    {
     "name": "stdout",
     "output_type": "stream",
     "text": [
      "(150, 4)\n",
      "(150,)\n",
      "['Iris-setosa' 'Iris-versicolor' 'Iris-virginica']\n",
      "[0. 0. 0. 0. 0. 0. 0. 0. 0. 0. 0. 0. 0. 0. 0. 0. 0. 0. 0. 0. 0. 0. 0. 0.\n",
      " 0. 0. 0. 0. 0. 0. 0. 0. 0. 0. 0. 0. 0. 0. 0. 0. 0. 0. 0. 0. 0. 0. 0. 0.\n",
      " 0. 0. 1. 1. 1. 1. 1. 1. 1. 1. 1. 1. 1. 1. 1. 1. 1. 1. 1. 1. 1. 1. 1. 1.\n",
      " 1. 1. 1. 1. 1. 1. 1. 1. 1. 1. 1. 1. 1. 1. 1. 1. 1. 1. 1. 1. 1. 1. 1. 1.\n",
      " 1. 1. 1. 1. 2. 2. 2. 2. 2. 2. 2. 2. 2. 2. 2. 2. 2. 2. 2. 2. 2. 2. 2. 2.\n",
      " 2. 2. 2. 2. 2. 2. 2. 2. 2. 2. 2. 2. 2. 2. 2. 2. 2. 2. 2. 2. 2. 2. 2. 2.\n",
      " 2. 2. 2. 2. 2. 2.]\n"
     ]
    }
   ],
   "source": [
    "import numpy.core.defchararray as np_f\n",
    "\n",
    "#columns with index 0,1,2,3 are feature X\n",
    "X = np.genfromtxt('IRIS.csv', dtype='float', delimiter=',', skip_header=1, \n",
    "                  usecols=[0, 1, 2, 3])\n",
    "\n",
    "#column 4th index is label\n",
    "y = np.genfromtxt('IRIS.csv', dtype='str', delimiter=',', skip_header=1, \n",
    "                  usecols=4)\n",
    "\n",
    "print(X.shape)\n",
    "print(y.shape)\n",
    "\n",
    "#replace name of flower to number.\n",
    "categories = np.unique(y)\n",
    "print(categories)\n",
    "for i in range(categories.size):\n",
    "    y = np_f.replace(y, categories[i], str(i))\n",
    "    \n",
    "y = y.astype('float')\n",
    "print(y)"
   ]
  },
  {
   "cell_type": "code",
   "execution_count": null,
   "metadata": {},
   "outputs": [],
   "source": []
  }
 ],
 "metadata": {
  "kernelspec": {
   "display_name": "Python 3",
   "language": "python",
   "name": "python3"
  },
  "language_info": {
   "codemirror_mode": {
    "name": "ipython",
    "version": 3
   },
   "file_extension": ".py",
   "mimetype": "text/x-python",
   "name": "python",
   "nbconvert_exporter": "python",
   "pygments_lexer": "ipython3",
   "version": "3.6.7"
  }
 },
 "nbformat": 4,
 "nbformat_minor": 2
}
