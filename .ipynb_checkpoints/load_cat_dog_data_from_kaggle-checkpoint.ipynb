{
 "cells": [
  {
   "cell_type": "markdown",
   "metadata": {},
   "source": [
    "A tutorial loads AI data which is dog and cat from a challenge Kaggle using numpy lib.\n",
    "\n",
    "url: https://www.kaggle.com/c/dogs-vs-cats/data"
   ]
  },
  {
   "cell_type": "code",
   "execution_count": 9,
   "metadata": {},
   "outputs": [],
   "source": [
    "import numpy as np\n",
    "import os\n",
    "from tqdm  import tqdm\n",
    "from PIL import Image\n",
    "\n",
    "IMG_SIZE = 50 #resize images to 50*50\n",
    "TRAIN_DIR = \"./dogs-vs-cats/train\"\n",
    "TEST_DIR = \"./dogs-vs-cats/test\""
   ]
  },
  {
   "cell_type": "code",
   "execution_count": 1,
   "metadata": {},
   "outputs": [],
   "source": [
    "#get label from image name\n",
    "#the name format is [cat/dog].<number>.jpg\n",
    "def label_image(img_name):\n",
    "    label = img_name.split('.')[0]\n",
    "    if (label == 'cat'):\n",
    "        return 0\n",
    "    elif label == 'dog':\n",
    "        return 1\n",
    "    else:\n",
    "        return None"
   ]
  },
  {
   "cell_type": "code",
   "execution_count": 11,
   "metadata": {},
   "outputs": [
    {
     "name": "stderr",
     "output_type": "stream",
     "text": [
      "100%|███████████████████████████████████| 25000/25000 [02:36<00:00, 159.59it/s]\n"
     ]
    },
    {
     "name": "stdout",
     "output_type": "stream",
     "text": [
      "(25000, 50, 50, 3)\n",
      "(25000,)\n"
     ]
    }
   ],
   "source": [
    "def load_cat_dog_data(dir_data, des):\n",
    "    X_data = []\n",
    "    y_label = []\n",
    "    \n",
    "    files = os.listdir(dir_data)\n",
    "    for img_name in tqdm(files): #create grogress by tqdm\n",
    "        label = label_image(img_name)\n",
    "        img_path = os.path.join(TRAIN_DIR, img_name)\n",
    "        \n",
    "        img = Image.open(img_path)\n",
    "        img = img.resize((IMG_SIZE, IMG_SIZE), Image.ANTIALIAS)\n",
    "        img = np.asarray(img)\n",
    "        \n",
    "        X_data.append(img)\n",
    "        y_label.append(label)\n",
    "        \n",
    "        \n",
    "    X = np.array(X_data)\n",
    "    y = np.array(y_label)\n",
    "    \n",
    "    #store data to file for next time\n",
    "    np.save(des + 'X.npy', X) \n",
    "    np.save(des + 'y.npy', y)\n",
    "    \n",
    "    return X, y\n",
    "\n",
    "X, y = load_cat_dog_data(TRAIN_DIR, './dogs-vs-cats/')\n",
    "print(X.shape)\n",
    "print(y.shape)"
   ]
  },
  {
   "cell_type": "code",
   "execution_count": 13,
   "metadata": {},
   "outputs": [],
   "source": [
    "#display image\n",
    "for idx in np.random.randint(25000, size=10):\n",
    "    arr = X[idx].reshape(IMG_SIZE, IMG_SIZE, 3)\n",
    "    img = Image.fromarray(arr)\n",
    "    img.save('./dogs-vs-cats/img_' + str(idx) + \".jpg\")"
   ]
  },
  {
   "cell_type": "code",
   "execution_count": null,
   "metadata": {},
   "outputs": [],
   "source": []
  }
 ],
 "metadata": {
  "kernelspec": {
   "display_name": "Python 3",
   "language": "python",
   "name": "python3"
  },
  "language_info": {
   "codemirror_mode": {
    "name": "ipython",
    "version": 3
   },
   "file_extension": ".py",
   "mimetype": "text/x-python",
   "name": "python",
   "nbconvert_exporter": "python",
   "pygments_lexer": "ipython3",
   "version": "3.6.7"
  }
 },
 "nbformat": 4,
 "nbformat_minor": 2
}
