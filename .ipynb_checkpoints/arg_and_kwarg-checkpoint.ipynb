{
 "cells": [
  {
   "cell_type": "code",
   "execution_count": 31,
   "metadata": {
    "scrolled": true
   },
   "outputs": [
    {
     "name": "stdout",
     "output_type": "stream",
     "text": [
      "1 2 3 4 5\n",
      "a b c\n",
      "1 2 3 4\n",
      "1 2 3 4 5\n"
     ]
    }
   ],
   "source": [
    "l = [1, 2, 3, 4, 5]\n",
    "dic = {'a': 1, 'b': 2, 'c': 3}\n",
    "s = {1, 2, 3, 4}\n",
    "t = (1, 2, 3, 4, 5)\n",
    "\n",
    "print(*nums)\n",
    "print(*dic)\n",
    "print(*s)\n",
    "print(*t)"
   ]
  },
  {
   "cell_type": "code",
   "execution_count": 32,
   "metadata": {
    "scrolled": true
   },
   "outputs": [
    {
     "name": "stdout",
     "output_type": "stream",
     "text": [
      "4\n",
      "5\n",
      "[1, 2, 3]\n"
     ]
    }
   ],
   "source": [
    "t = (1, 2, 3, 4, 5)\n",
    "t = set(t)\n",
    "\n",
    "*c, a, b = t\n",
    "print(a)\n",
    "print(b)\n",
    "print(c)"
   ]
  },
  {
   "cell_type": "code",
   "execution_count": 38,
   "metadata": {
    "scrolled": false
   },
   "outputs": [
    {
     "name": "stdout",
     "output_type": "stream",
     "text": [
      "First_arg:  a\n",
      "another is:  12\n",
      "another is:  13\n",
      "another is:  14\n"
     ]
    }
   ],
   "source": [
    "def test_var_arg(f_arg, *arr):\n",
    "    print('First_arg: ', f_arg)\n",
    "    for i in arr:\n",
    "        print('another is: ', i)\n",
    "        \n",
    "test_var_arg('a', 12, 13, 14)"
   ]
  },
  {
   "cell_type": "code",
   "execution_count": 39,
   "metadata": {},
   "outputs": [
    {
     "name": "stdout",
     "output_type": "stream",
     "text": [
      "name - kkk\n",
      "age - kss\n",
      "x - 1\n",
      "l - (1, 2, 3)\n"
     ]
    }
   ],
   "source": [
    "def test_var_kwarg(**kwargs):\n",
    "    for k, v in kwargs.items():        \n",
    "        print('{} - {}'.format(k, v))\n",
    "        \n",
    "test_var_kwarg(name=\"kkk\", age=\"kss\", x=1, l=(1, 2, 3))"
   ]
  },
  {
   "cell_type": "code",
   "execution_count": null,
   "metadata": {},
   "outputs": [],
   "source": []
  }
 ],
 "metadata": {
  "kernelspec": {
   "display_name": "Python 3",
   "language": "python",
   "name": "python3"
  },
  "language_info": {
   "codemirror_mode": {
    "name": "ipython",
    "version": 3
   },
   "file_extension": ".py",
   "mimetype": "text/x-python",
   "name": "python",
   "nbconvert_exporter": "python",
   "pygments_lexer": "ipython3",
   "version": "3.6.7"
  }
 },
 "nbformat": 4,
 "nbformat_minor": 2
}
