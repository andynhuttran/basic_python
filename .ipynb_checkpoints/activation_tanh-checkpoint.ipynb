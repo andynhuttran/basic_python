{
 "cells": [
  {
   "cell_type": "markdown",
   "metadata": {},
   "source": [
    "### Tanh function is:\n",
    "\n",
    "$$f(x) = tanh(x) = {2 \\over {1 + e^{-2x}}}-1$$"
   ]
  },
  {
   "cell_type": "markdown",
   "metadata": {},
   "source": [
    "### Derivate tanh function is:\n",
    "\n",
    "$$f'(x) = {1 - f(x)^2}$$"
   ]
  },
  {
   "cell_type": "code",
   "execution_count": 3,
   "metadata": {},
   "outputs": [],
   "source": [
    "import math\n",
    "import numpy as np\n",
    "import matplotlib.pyplot as plt"
   ]
  },
  {
   "cell_type": "code",
   "execution_count": 4,
   "metadata": {},
   "outputs": [
    {
     "name": "stdout",
     "output_type": "stream",
     "text": [
      "0.9999092042625952\n"
     ]
    }
   ],
   "source": [
    "#implement tanh function and its derivate\n",
    "def tanh(x):\n",
    "    denominator = 1 + math.exp(-2*x) #1 + e^(-2x)\n",
    "    result = (2.0/denominator) - 1\n",
    "    return result\n",
    "\n",
    "a = tanh(5)\n",
    "print(a)"
   ]
  },
  {
   "cell_type": "code",
   "execution_count": 5,
   "metadata": {},
   "outputs": [
    {
     "name": "stdout",
     "output_type": "stream",
     "text": [
      "0.00018158323094363826\n"
     ]
    }
   ],
   "source": [
    "def tanh_derivate(x):\n",
    "    f_x = tanh(x)\n",
    "    result = 1 - math.pow(f_x, 2)\n",
    "    return result\n",
    "\n",
    "a = tanh_derivate(5)\n",
    "print(a)"
   ]
  },
  {
   "cell_type": "code",
   "execution_count": 6,
   "metadata": {},
   "outputs": [
    {
     "name": "stdout",
     "output_type": "stream",
     "text": [
      "X \t f(x) \t f'(x)\n",
      "----------------------\n",
      "-4.00 \t -1.00 \t 0.00\n",
      "-3.90 \t -1.00 \t 0.00\n",
      "-3.80 \t -1.00 \t 0.00\n",
      "-3.70 \t -1.00 \t 0.00\n",
      "-3.60 \t -1.00 \t 0.00\n",
      "-3.50 \t -1.00 \t 0.00\n",
      "-3.40 \t -1.00 \t 0.00\n",
      "-3.30 \t -1.00 \t 0.01\n",
      "-3.20 \t -1.00 \t 0.01\n",
      "-3.10 \t -1.00 \t 0.01\n",
      "-3.00 \t -1.00 \t 0.01\n",
      "-2.90 \t -0.99 \t 0.01\n",
      "-2.80 \t -0.99 \t 0.01\n",
      "-2.70 \t -0.99 \t 0.02\n",
      "-2.60 \t -0.99 \t 0.02\n",
      "-2.50 \t -0.99 \t 0.03\n",
      "-2.40 \t -0.98 \t 0.03\n",
      "-2.30 \t -0.98 \t 0.04\n",
      "-2.20 \t -0.98 \t 0.05\n",
      "-2.10 \t -0.97 \t 0.06\n",
      "-2.00 \t -0.96 \t 0.07\n",
      "-1.90 \t -0.96 \t 0.09\n",
      "-1.80 \t -0.95 \t 0.10\n",
      "-1.70 \t -0.94 \t 0.13\n",
      "-1.60 \t -0.92 \t 0.15\n",
      "-1.50 \t -0.91 \t 0.18\n",
      "-1.40 \t -0.89 \t 0.22\n",
      "-1.30 \t -0.86 \t 0.26\n",
      "-1.20 \t -0.83 \t 0.31\n",
      "-1.10 \t -0.80 \t 0.36\n",
      "-1.00 \t -0.76 \t 0.42\n",
      "-0.90 \t -0.72 \t 0.49\n",
      "-0.80 \t -0.66 \t 0.56\n",
      "-0.70 \t -0.60 \t 0.63\n",
      "-0.60 \t -0.54 \t 0.71\n",
      "-0.50 \t -0.46 \t 0.79\n",
      "-0.40 \t -0.38 \t 0.86\n",
      "-0.30 \t -0.29 \t 0.92\n",
      "-0.20 \t -0.20 \t 0.96\n",
      "-0.10 \t -0.10 \t 0.99\n",
      "0.00 \t 0.00 \t 1.00\n",
      "0.10 \t 0.10 \t 0.99\n",
      "0.20 \t 0.20 \t 0.96\n",
      "0.30 \t 0.29 \t 0.92\n",
      "0.40 \t 0.38 \t 0.86\n",
      "0.50 \t 0.46 \t 0.79\n",
      "0.60 \t 0.54 \t 0.71\n",
      "0.70 \t 0.60 \t 0.63\n",
      "0.80 \t 0.66 \t 0.56\n",
      "0.90 \t 0.72 \t 0.49\n",
      "1.00 \t 0.76 \t 0.42\n",
      "1.10 \t 0.80 \t 0.36\n",
      "1.20 \t 0.83 \t 0.31\n",
      "1.30 \t 0.86 \t 0.26\n",
      "1.40 \t 0.89 \t 0.22\n",
      "1.50 \t 0.91 \t 0.18\n",
      "1.60 \t 0.92 \t 0.15\n",
      "1.70 \t 0.94 \t 0.13\n",
      "1.80 \t 0.95 \t 0.10\n",
      "1.90 \t 0.96 \t 0.09\n",
      "2.00 \t 0.96 \t 0.07\n",
      "2.10 \t 0.97 \t 0.06\n",
      "2.20 \t 0.98 \t 0.05\n",
      "2.30 \t 0.98 \t 0.04\n",
      "2.40 \t 0.98 \t 0.03\n",
      "2.50 \t 0.99 \t 0.03\n",
      "2.60 \t 0.99 \t 0.02\n",
      "2.70 \t 0.99 \t 0.02\n",
      "2.80 \t 0.99 \t 0.01\n",
      "2.90 \t 0.99 \t 0.01\n",
      "3.00 \t 1.00 \t 0.01\n",
      "3.10 \t 1.00 \t 0.01\n",
      "3.20 \t 1.00 \t 0.01\n",
      "3.30 \t 1.00 \t 0.01\n",
      "3.40 \t 1.00 \t 0.00\n",
      "3.50 \t 1.00 \t 0.00\n",
      "3.60 \t 1.00 \t 0.00\n",
      "3.70 \t 1.00 \t 0.00\n",
      "3.80 \t 1.00 \t 0.00\n",
      "3.90 \t 1.00 \t 0.00\n",
      "4.00 \t 1.00 \t 0.00\n",
      "----------------------\n"
     ]
    }
   ],
   "source": [
    "#using matplotlib to draw sigmoid and its derivative \n",
    "\n",
    "X = np.arange(-4, 4.1, 0.1) #create an array which contains numbers from -4 to 4 with step is 0.5\n",
    "Y = []\n",
    "Y_derivative = []\n",
    "\n",
    "#loop all element in X to calcualte sigmoid value and sigmod_derivative value\n",
    "print(\"X \\t f(x) \\t f'(x)\")\n",
    "print('----------------------')\n",
    "for x in X:\n",
    "    y = tanh(x)\n",
    "    Y.append(y)\n",
    "    \n",
    "    y_derivative = tanh_derivate(x)\n",
    "    Y_derivative.append(y_derivative)\n",
    "    \n",
    "    #try to print\n",
    "    print('%.2f \\t %.2f \\t %.2f' %(x, y, y_derivative))\n",
    "    \n",
    "print('----------------------')"
   ]
  },
  {
   "cell_type": "code",
   "execution_count": 7,
   "metadata": {},
   "outputs": [
    {
     "data": {
      "image/png": "[encoded data removed]",
      "text/plain": [
       "<Figure size 432x288 with 1 Axes>"
      ]
     },
     "metadata": {
      "needs_background": "light"
     },
     "output_type": "display_data"
    }
   ],
   "source": [
    "#draw all of them to chart\n",
    "fig, ax = plt.subplots()\n",
    "\n",
    "ax.plot(X, Y, label='tanh')\n",
    "ax.plot(X, Y_derivative, label='derivative')\n",
    "ax.legend(loc='upper left')\n",
    "\n",
    "ax.spines['left'].set_position('center')\n",
    "ax.spines['bottom'].set_position('center')\n",
    "ax.spines['right'].set_color('none')\n",
    "ax.spines['top'].set_color('none')\n",
    "\n",
    "ax.xaxis.set_ticks_position('bottom')\n",
    "ax.yaxis.set_ticks_position('left')\n",
    "\n"
   ]
  },
  {
   "cell_type": "code",
   "execution_count": null,
   "metadata": {},
   "outputs": [],
   "source": []
  }
 ],
 "metadata": {
  "kernelspec": {
   "display_name": "Python 3",
   "language": "python",
   "name": "python3"
  },
  "language_info": {
   "codemirror_mode": {
    "name": "ipython",
    "version": 3
   },
   "file_extension": ".py",
   "mimetype": "text/x-python",
   "name": "python",
   "nbconvert_exporter": "python",
   "pygments_lexer": "ipython3",
   "version": "3.6.7"
  }
 },
 "nbformat": 4,
 "nbformat_minor": 2
}
