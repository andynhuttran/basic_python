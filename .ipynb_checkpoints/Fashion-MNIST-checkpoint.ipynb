{
 "cells": [
  {
   "cell_type": "code",
   "execution_count": 29,
   "metadata": {},
   "outputs": [],
   "source": [
    "import numpy as np\n",
    "from urllib import request\n",
    "import gzip\n",
    "import pickle\n",
    "import os\n",
    "from sklearn.model_selection import train_test_split"
   ]
  },
  {
   "cell_type": "code",
   "execution_count": 5,
   "metadata": {},
   "outputs": [],
   "source": [
    "filenames = [\n",
    "            [\"training_images\",\"train-images-idx3-ubyte.gz\"],\n",
    "            [\"training_labels\",\"train-labels-idx1-ubyte.gz\"],\n",
    "            [\"test_images\",\"t10k-images-idx3-ubyte.gz\"],\n",
    "            [\"test_labels\",\"t10k-labels-idx1-ubyte.gz\"]\n",
    "            ]"
   ]
  },
  {
   "cell_type": "code",
   "execution_count": 9,
   "metadata": {},
   "outputs": [],
   "source": [
    "def download_faction_mnist(des_folder):\n",
    "    base_url = \"http://fashion-mnist.s3-website.eu-central-1.amazonaws.com/\"\n",
    "    for file in filenames:\n",
    "        print('Downloading ' + file[1] + ' .....')\n",
    "        \n",
    "        #save file to destination folder\n",
    "        url = base_url + file[1]\n",
    "        des = des_folder + file[1]\n",
    "        request.urlretrieve(url, des)\n",
    "        \n",
    "    print(\"Download complete\")"
   ]
  },
  {
   "cell_type": "code",
   "execution_count": 10,
   "metadata": {},
   "outputs": [
    {
     "name": "stdout",
     "output_type": "stream",
     "text": [
      "Downloading train-images-idx3-ubyte.gz .....\n",
      "Downloading train-labels-idx1-ubyte.gz .....\n",
      "Downloading t10k-images-idx3-ubyte.gz .....\n",
      "Downloading t10k-labels-idx1-ubyte.gz .....\n",
      "Download complete\n"
     ]
    }
   ],
   "source": [
    "des_foler = 'data_fashion_mnist/'\n",
    "download_faction_mnist(des_foler)"
   ]
  },
  {
   "cell_type": "code",
   "execution_count": 31,
   "metadata": {},
   "outputs": [
    {
     "name": "stdout",
     "output_type": "stream",
     "text": [
      "X_train shape:  (48000, 784)\n",
      "y_train shape:  (48000,)\n",
      "X_val shape:  (12000, 784)\n",
      "y_val shape:  (12000,)\n",
      "X_test shape:  (10000, 784)\n",
      "y_test shape:  (10000,)\n"
     ]
    }
   ],
   "source": [
    "def load_fashion_minst(path, train_data=True):\n",
    "    #load data mnist in path\n",
    "    \n",
    "    if (train_data == True):\n",
    "        images_path = os.path.join(path, filenames[0][1])\n",
    "        labels_path = os.path.join(path, filenames[1][1])\n",
    "    else:\n",
    "        images_path = os.path.join(path, filenames[2][1])\n",
    "        labels_path = os.path.join(path, filenames[3][1])\n",
    "    \n",
    "    with gzip.open(labels_path, 'rb') as lb_path:\n",
    "        labels = np.frombuffer(lb_path.read(), dtype=np.uint8, offset=8)\n",
    "    \n",
    "    with gzip.open(images_path, 'rb') as img_path:\n",
    "        images = np.frombuffer(img_path.read(), dtype=np.uint8, offset=16)\n",
    "        images = images.reshape(len(labels), 784)\n",
    "    \n",
    "        \n",
    "    return images, labels\n",
    "        \n",
    "train_images, train_labels = load_fashion_minst(des_foler, train_data=True)\n",
    "test_images, test_labels   = load_fashion_minst(des_foler, train_data=False)\n",
    "\n",
    "\n",
    "train_images, val_images, train_labels, val_labels = train_test_split(train_images, train_labels, test_size=0.2)\n",
    "\n",
    "print(\"X_train shape: \", train_images.shape)\n",
    "print(\"y_train shape: \", train_labels.shape)\n",
    "\n",
    "print(\"X_val shape: \", val_images.shape)\n",
    "print(\"y_val shape: \", val_labels.shape)\n",
    "\n",
    "print(\"X_test shape: \", test_images.shape)\n",
    "print(\"y_test shape: \", test_labels.shape)"
   ]
  },
  {
   "cell_type": "code",
   "execution_count": 34,
   "metadata": {},
   "outputs": [],
   "source": [
    "#read to make sure images is read correctly\n",
    "from PIL import Image\n",
    "\n",
    "indices = list(np.random.randint(48000, size=5))\n",
    "for idx in indices:\n",
    "    im = Image.fromarray(train_images[idx].reshape(28,28))\n",
    "    im.save(des_foler + \"/img_\" + str(idx) + \".png\")"
   ]
  },
  {
   "cell_type": "code",
   "execution_count": null,
   "metadata": {},
   "outputs": [],
   "source": []
  }
 ],
 "metadata": {
  "kernelspec": {
   "display_name": "Python 3",
   "language": "python",
   "name": "python3"
  },
  "language_info": {
   "codemirror_mode": {
    "name": "ipython",
    "version": 3
   },
   "file_extension": ".py",
   "mimetype": "text/x-python",
   "name": "python",
   "nbconvert_exporter": "python",
   "pygments_lexer": "ipython3",
   "version": "3.6.7"
  }
 },
 "nbformat": 4,
 "nbformat_minor": 2
}
