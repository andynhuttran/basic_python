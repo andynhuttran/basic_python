{
 "cells": [
  {
   "cell_type": "code",
   "execution_count": 5,
   "metadata": {},
   "outputs": [],
   "source": [
    "import math"
   ]
  },
  {
   "cell_type": "code",
   "execution_count": 51,
   "metadata": {},
   "outputs": [
    {
     "name": "stdout",
     "output_type": "stream",
     "text": [
      "1024.0\n"
     ]
    }
   ],
   "source": [
    "#x ^ y\n",
    "\n",
    "a = math.pow(2, 10)\n",
    "print(a)"
   ]
  },
  {
   "cell_type": "code",
   "execution_count": 52,
   "metadata": {},
   "outputs": [
    {
     "name": "stdout",
     "output_type": "stream",
     "text": [
      "7.38905609893065\n"
     ]
    }
   ],
   "source": [
    "#e^x\n",
    "a = math.exp(2) #return e^2\n",
    "print(a)"
   ]
  },
  {
   "cell_type": "code",
   "execution_count": 28,
   "metadata": {},
   "outputs": [
    {
     "name": "stdout",
     "output_type": "stream",
     "text": [
      "2.718281828459045\n"
     ]
    }
   ],
   "source": [
    "#get e constant, e = 2.718281\n",
    "a = math.e\n",
    "print(a)\n",
    "\n",
    "#besides, you could use math.pi to get PI constant"
   ]
  },
  {
   "cell_type": "code",
   "execution_count": 57,
   "metadata": {},
   "outputs": [
    {
     "name": "stdout",
     "output_type": "stream",
     "text": [
      "sin: 1.0000\n",
      "cos: 0.0000\n",
      "sin(1.0000)^2 + cos(0.0000)^2 = 1.0000\n"
     ]
    }
   ],
   "source": [
    "#calcuate sin, cos value of angle (radian)\n",
    "angle_radian = math.pi/2\n",
    "\n",
    "sin = math.sin(angle_radian)\n",
    "print('sin: %.4f' %(sin))\n",
    "\n",
    "cos = math.cos(angle_radian)\n",
    "print('cos: %.4f' %(cos))\n",
    "\n",
    "#sin(x)^2 + cos(x)^2 = 1\n",
    "a = math.pow(sin, 2) + math.pow(cos, 2)\n",
    "print('sin(%.4f)^2 + cos(%.4f)^2 = %.4f' %(sin, cos, a))"
   ]
  },
  {
   "cell_type": "code",
   "execution_count": 81,
   "metadata": {},
   "outputs": [
    {
     "name": "stdout",
     "output_type": "stream",
     "text": [
      "0.7854 degree is 45.0 degree\n",
      "180.0 degree is 3.1416 degree\n"
     ]
    }
   ],
   "source": [
    "#covert radian to degree and degree to radian\n",
    "angle = math.pi/4\n",
    "degree = math.degrees(angle)\n",
    "print('%.4f degree is %.1f degree' %(angle, degree))\n",
    "\n",
    "angle = 180\n",
    "radian = math.radians(angle)\n",
    "print('%.1f degree is %.4f degree' %(angle, radian))"
   ]
  },
  {
   "cell_type": "code",
   "execution_count": 68,
   "metadata": {},
   "outputs": [
    {
     "name": "stdout",
     "output_type": "stream",
     "text": [
      "120\n"
     ]
    }
   ],
   "source": [
    "#calcuate  x!\n",
    "a = math.factorial(5) #= 1*2*3*4*5\n",
    "print(a)"
   ]
  },
  {
   "cell_type": "code",
   "execution_count": 82,
   "metadata": {},
   "outputs": [
    {
     "name": "stdout",
     "output_type": "stream",
     "text": [
      "4.47213595499958\n"
     ]
    }
   ],
   "source": [
    "x = 2\n",
    "y = 4\n",
    "a = math.hypot(x, y) #sqrt(x^2 + y^2) or (x^2 + y^2)^0.5\n",
    "print(a)"
   ]
  },
  {
   "cell_type": "code",
   "execution_count": null,
   "metadata": {},
   "outputs": [],
   "source": []
  }
 ],
 "metadata": {
  "kernelspec": {
   "display_name": "Python 3",
   "language": "python",
   "name": "python3"
  },
  "language_info": {
   "codemirror_mode": {
    "name": "ipython",
    "version": 3
   },
   "file_extension": ".py",
   "mimetype": "text/x-python",
   "name": "python",
   "nbconvert_exporter": "python",
   "pygments_lexer": "ipython3",
   "version": "3.6.7"
  }
 },
 "nbformat": 4,
 "nbformat_minor": 2
}
