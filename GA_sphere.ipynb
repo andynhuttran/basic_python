{
 "cells": [
  {
   "cell_type": "markdown",
   "metadata": {},
   "source": [
    "$$\n",
    "\\begin{array}{c}\n",
    "f(x) = x_1^2 + x_2^2 + x_3^2 + x_4^2 + x_5^2 + x_6^2 \\\\\\\n",
    "x_i = [-20; 20]\n",
    "\\end{array}\n",
    "$$\n",
    "\n",
    "Use Genetic Algorithm to find min value of f(x)"
   ]
  },
  {
   "cell_type": "code",
   "execution_count": 217,
   "metadata": {},
   "outputs": [],
   "source": [
    "import random\n",
    "import numpy as np\n",
    "import matplotlib.pyplot as plt"
   ]
  },
  {
   "cell_type": "code",
   "execution_count": 218,
   "metadata": {},
   "outputs": [],
   "source": [
    "def generate_random_value():\n",
    "    return random.uniform(-20.0, 20.0)\n",
    "\n",
    "def generate_data(n):\n",
    "    return [generate_random_value() for _ in range(n)]\n",
    "\n",
    "def generate_datas(n, m):\n",
    "    return [generate_data(n) for _ in range(m)]\n",
    "\n",
    "def cal_loss(data):\n",
    "    s = sum(d*d for d in data)\n",
    "    return s\n",
    "\n",
    "def cal_fitness(data):\n",
    "    loss = cal_loss(data)\n",
    "    return 1/(loss+1)\n"
   ]
  },
  {
   "cell_type": "code",
   "execution_count": 219,
   "metadata": {},
   "outputs": [],
   "source": [
    "def selection(items):    \n",
    "    while True:\n",
    "        idx1 = random.randint(0, len(items)-1)\n",
    "        idx2 = random.randint(0, len(items)-1)\n",
    "        \n",
    "        if (idx1 > idx2):\n",
    "            return items[idx1]\n",
    "        elif (idx1 < idx2):\n",
    "            return items[idx2]\n",
    "        \n",
    "\n",
    "def scrossover(item1, item2, rate = 0.9):\n",
    "    i1 = item1.copy()\n",
    "    i2 = item2.copy()\n",
    "    \n",
    "    for i in range(len(i1)):\n",
    "        if (random.random() < rate):\n",
    "            i1[i], i2[i] = i2[i], i1[i]\n",
    "    \n",
    "    return i1, i2\n",
    "            \n",
    "            \n",
    "def mutate(data, mutation_rate = 0.05):\n",
    "    for i in range(len(data)):\n",
    "        if random.random() < mutation_rate:\n",
    "            data[i] = generate_random_value()\n",
    "            \n",
    "    return data\n"
   ]
  },
  {
   "cell_type": "code",
   "execution_count": 236,
   "metadata": {},
   "outputs": [
    {
     "name": "stdout",
     "output_type": "stream",
     "text": [
      "[-0.008279999388523862, -0.0048949801257016645, -0.009728720513226818, -0.006173159851865506, 0.0007062368300267963, 0.005416501135503182]\n",
      "0.00025511238069712784\n"
     ]
    },
    {
     "data": {
      "image/png": "[encoded data removed]",
      "text/plain": [
       "<Figure size 432x288 with 1 Axes>"
      ]
     },
     "metadata": {
      "needs_background": "light"
     },
     "output_type": "display_data"
    }
   ],
   "source": [
    "fitnesses = []\n",
    "\n",
    "def create_new_data(old_data, m, buffer=2):\n",
    "    sorted_old_data = sorted(old_data, key=cal_fitness)\n",
    "    \n",
    "    curr_fitness = cal_loss(sorted_old_data[-1])\n",
    "    fitnesses.append(curr_fitness)\n",
    "    \n",
    "    new_datas = []\n",
    "    while (len(new_datas) < m-buffer):\n",
    "        \n",
    "        good_data_1 = selection(sorted_old_data)\n",
    "        good_data_2 = selection(sorted_old_data)\n",
    "    \n",
    "        good_data_1, good_data_2 = scrossover(good_data_1, good_data_2)\n",
    "    \n",
    "        good_data_1 = mutate(good_data_1)\n",
    "        good_data_2 = mutate(good_data_2)\n",
    "        \n",
    "        new_datas.append(good_data_1)\n",
    "        new_datas.append(good_data_2)\n",
    "        \n",
    "    for data in sorted_old_data[m-buffer:]:\n",
    "        new_datas.append(data.copy())\n",
    "    \n",
    "    return new_datas\n",
    "\n",
    "\n",
    "n = 6\n",
    "m  = 10\n",
    "n_generation = 10000\n",
    "items = generate_datas(n, m)\n",
    "\n",
    "for _ in range(n_generation):\n",
    "    items = create_new_data(items, m, 2)\n",
    "\n",
    "\n",
    "X = np.arange(0, n_generation, 1)\n",
    "plt.plot(X, fitnesses)\n",
    "\n",
    "print(items[-1])\n",
    "print(fitnesses[-1])"
   ]
  },
  {
   "cell_type": "code",
   "execution_count": null,
   "metadata": {},
   "outputs": [],
   "source": []
  },
  {
   "cell_type": "code",
   "execution_count": null,
   "metadata": {},
   "outputs": [],
   "source": []
  }
 ],
 "metadata": {
  "kernelspec": {
   "display_name": "Python 3",
   "language": "python",
   "name": "python3"
  },
  "language_info": {
   "codemirror_mode": {
    "name": "ipython",
    "version": 3
   },
   "file_extension": ".py",
   "mimetype": "text/x-python",
   "name": "python",
   "nbconvert_exporter": "python",
   "pygments_lexer": "ipython3",
   "version": "3.6.7"
  }
 },
 "nbformat": 4,
 "nbformat_minor": 2
}
