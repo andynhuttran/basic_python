{
 "cells": [
  {
   "cell_type": "markdown",
   "metadata": {},
   "source": [
    "#### Explonential Linear Unit - ELU\n",
    "\n",
    "\\begin{split}f(x) = \\begin{Bmatrix} α.( e^x – 1) & if & x < 0 \\\\\n",
    " x & if &  x >= 0 \\end{Bmatrix}\\end{split}\n",
    " \n",
    " #### ELU deravative\n",
    " \n",
    " \\begin{split}f'(x) = \\begin{Bmatrix} f(x) + α & if & x < 0 \\\\\n",
    " 1 & if &  x >= 0 \\end{Bmatrix}\\end{split}"
   ]
  },
  {
   "cell_type": "code",
   "execution_count": 59,
   "metadata": {},
   "outputs": [],
   "source": [
    "import numpy as np\n",
    "import math\n",
    "import matplotlib.pyplot as plt"
   ]
  },
  {
   "cell_type": "code",
   "execution_count": 50,
   "metadata": {},
   "outputs": [],
   "source": [
    "def elu(data, alpha = 0.01):\n",
    "    result = []\n",
    "    for x in data:\n",
    "        if (x > 0):\n",
    "            result.append(x)\n",
    "        else:\n",
    "            y = alpha*(math.exp(x)-1)\n",
    "            result.append(y)\n",
    "    return result"
   ]
  },
  {
   "cell_type": "code",
   "execution_count": 51,
   "metadata": {},
   "outputs": [],
   "source": [
    "def elu_deravative(data, alpha):\n",
    "    result = []\n",
    "    for x in data:\n",
    "        if (x > 0):\n",
    "            result.append(1)\n",
    "        else:\n",
    "            y_d = alpha*(math.exp(x)-1) + alpha\n",
    "            result.append(y_d)\n",
    "    return result"
   ]
  },
  {
   "cell_type": "code",
   "execution_count": 52,
   "metadata": {},
   "outputs": [],
   "source": [
    "alpha = 0.001\n",
    "X = np.arange(-4, 4.1, 0.1)\n",
    "Y = elu(X, alpha)\n",
    "Y_deravative = elu_deravative(X, alpha)"
   ]
  },
  {
   "cell_type": "code",
   "execution_count": 53,
   "metadata": {},
   "outputs": [
    {
     "data": {
      "image/png": "[encoded data removed]",
      "text/plain": [
       "<Figure size 432x288 with 1 Axes>"
      ]
     },
     "metadata": {
      "needs_background": "light"
     },
     "output_type": "display_data"
    }
   ],
   "source": [
    "fig, ax = plt.subplots()\n",
    "\n",
    "ax.plot(X, Y, label='relu')\n",
    "ax.plot(X, Y_deravative, label='relu deravative')\n",
    "ax.legend()\n",
    "\n",
    "ax.spines['left'].set_position('center')\n",
    "ax.spines['top'].set_color('none')\n",
    "ax.spines['right'].set_color('none')\n",
    "\n",
    "ax.yaxis.set_ticks_position('left')\n",
    "\n",
    "plt.show()"
   ]
  },
  {
   "cell_type": "code",
   "execution_count": null,
   "metadata": {},
   "outputs": [],
   "source": []
  }
 ],
 "metadata": {
  "kernelspec": {
   "display_name": "Python 3",
   "language": "python",
   "name": "python3"
  },
  "language_info": {
   "codemirror_mode": {
    "name": "ipython",
    "version": 3
   },
   "file_extension": ".py",
   "mimetype": "text/x-python",
   "name": "python",
   "nbconvert_exporter": "python",
   "pygments_lexer": "ipython3",
   "version": "3.6.7"
  }
 },
 "nbformat": 4,
 "nbformat_minor": 2
}
